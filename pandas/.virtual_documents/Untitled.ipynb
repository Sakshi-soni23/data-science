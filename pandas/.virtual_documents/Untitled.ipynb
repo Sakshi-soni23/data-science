import pandas as pd
df = pd.read_excel("Data cleaning.xlsx")
df



df.rename(columns={"Name": "Actors"}, inplace=True)



