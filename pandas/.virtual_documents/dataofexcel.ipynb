import pandas as pd
df = pd.read_excel("data.xlsx")



import pandas as pd
df = pd.read_excel("data.xlsx")
print(df['Age'])  
df['Cartoon Name']


df.at[3, "Age"]   # Fast label-based access



df[df['Age']>60]





df[(df['Starting Year']>1992) & (df['Age']>45)]


df.query("`Cartoon Name`== 'Pokémon'")



