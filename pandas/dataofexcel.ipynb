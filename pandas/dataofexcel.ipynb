{
 "cells": [
  {
   "cell_type": "code",
   "execution_count": 2,
   "id": "498466f6-075c-4e8e-91a4-4d5d330a0ed3",
   "metadata": {},
   "outputs": [
    {
     "data": {
      "text/html": [
       "<div>\n",
       "<style scoped>\n",
       "    .dataframe tbody tr th:only-of-type {\n",
       "        vertical-align: middle;\n",
       "    }\n",
       "\n",
       "    .dataframe tbody tr th {\n",
       "        vertical-align: top;\n",
       "    }\n",
       "\n",
       "    .dataframe thead th {\n",
       "        text-align: right;\n",
       "    }\n",
       "</style>\n",
       "<table border=\"1\" class=\"dataframe\">\n",
       "  <thead>\n",
       "    <tr style=\"text-align: right;\">\n",
       "      <th></th>\n",
       "      <th>Cartoon Name</th>\n",
       "      <th>Starting Year</th>\n",
       "      <th>Channel Name</th>\n",
       "      <th>Age</th>\n",
       "    </tr>\n",
       "  </thead>\n",
       "  <tbody>\n",
       "    <tr>\n",
       "      <th>0</th>\n",
       "      <td>Tom and Jerry</td>\n",
       "      <td>1940</td>\n",
       "      <td>Cartoon Network</td>\n",
       "      <td>23</td>\n",
       "    </tr>\n",
       "    <tr>\n",
       "      <th>1</th>\n",
       "      <td>Doraemon</td>\n",
       "      <td>1979</td>\n",
       "      <td>Disney Channel</td>\n",
       "      <td>54</td>\n",
       "    </tr>\n",
       "    <tr>\n",
       "      <th>2</th>\n",
       "      <td>Ben 10</td>\n",
       "      <td>2005</td>\n",
       "      <td>Cartoon Network</td>\n",
       "      <td>34</td>\n",
       "    </tr>\n",
       "    <tr>\n",
       "      <th>3</th>\n",
       "      <td>Shinchan</td>\n",
       "      <td>1992</td>\n",
       "      <td>Hungama TV</td>\n",
       "      <td>75</td>\n",
       "    </tr>\n",
       "    <tr>\n",
       "      <th>4</th>\n",
       "      <td>Pokémon</td>\n",
       "      <td>1997</td>\n",
       "      <td>Cartoon Network</td>\n",
       "      <td>86</td>\n",
       "    </tr>\n",
       "    <tr>\n",
       "      <th>5</th>\n",
       "      <td>Chhota Bheem</td>\n",
       "      <td>2008</td>\n",
       "      <td>Pogo TV</td>\n",
       "      <td>89</td>\n",
       "    </tr>\n",
       "    <tr>\n",
       "      <th>6</th>\n",
       "      <td>Scooby-Doo</td>\n",
       "      <td>1969</td>\n",
       "      <td>Cartoon Network</td>\n",
       "      <td>43</td>\n",
       "    </tr>\n",
       "    <tr>\n",
       "      <th>7</th>\n",
       "      <td>Motu Patlu</td>\n",
       "      <td>2012</td>\n",
       "      <td>Nickelodeon</td>\n",
       "      <td>32</td>\n",
       "    </tr>\n",
       "  </tbody>\n",
       "</table>\n",
       "</div>"
      ],
      "text/plain": [
       "    Cartoon Name  Starting Year     Channel Name  Age\n",
       "0  Tom and Jerry           1940  Cartoon Network   23\n",
       "1       Doraemon           1979   Disney Channel   54\n",
       "2         Ben 10           2005  Cartoon Network   34\n",
       "3       Shinchan           1992       Hungama TV   75\n",
       "4        Pokémon           1997  Cartoon Network   86\n",
       "5   Chhota Bheem           2008          Pogo TV   89\n",
       "6     Scooby-Doo           1969  Cartoon Network   43\n",
       "7     Motu Patlu           2012      Nickelodeon   32"
      ]
     },
     "execution_count": 2,
     "metadata": {},
     "output_type": "execute_result"
    }
   ],
   "source": [
    "import pandas as pd\n",
    "df = pd.read_excel(\"data.xlsx\")\n"
   ]
  },
  {
   "cell_type": "code",
   "execution_count": 14,
   "id": "ff8d7f11-85e2-40ff-983f-bc73c6bb2d0b",
   "metadata": {},
   "outputs": [
    {
     "name": "stdout",
     "output_type": "stream",
     "text": [
      "0    23\n",
      "1    54\n",
      "2    34\n",
      "3    75\n",
      "4    86\n",
      "5    89\n",
      "6    43\n",
      "7    32\n",
      "Name: Age, dtype: int64\n"
     ]
    },
    {
     "data": {
      "text/plain": [
       "0    Tom and Jerry\n",
       "1         Doraemon\n",
       "2           Ben 10\n",
       "3         Shinchan\n",
       "4          Pokémon\n",
       "5     Chhota Bheem\n",
       "6       Scooby-Doo\n",
       "7       Motu Patlu\n",
       "Name: Cartoon Name, dtype: object"
      ]
     },
     "execution_count": 14,
     "metadata": {},
     "output_type": "execute_result"
    }
   ],
   "source": [
    "import pandas as pd\n",
    "df = pd.read_excel(\"data.xlsx\")\n",
    "print(df['Age'])  \n",
    "df['Cartoon Name']"
   ]
  },
  {
   "cell_type": "code",
   "execution_count": 17,
   "id": "90c4d7d3-7788-4fec-9775-de21635b998f",
   "metadata": {},
   "outputs": [
    {
     "data": {
      "text/plain": [
       "np.int64(75)"
      ]
     },
     "execution_count": 17,
     "metadata": {},
     "output_type": "execute_result"
    }
   ],
   "source": [
    "df.at[3, \"Age\"]   # Fast label-based access\n"
   ]
  },
  {
   "cell_type": "code",
   "execution_count": 21,
   "id": "da1175b5-ea63-4b7a-a7f6-8e76c3f47852",
   "metadata": {},
   "outputs": [
    {
     "data": {
      "text/html": [
       "<div>\n",
       "<style scoped>\n",
       "    .dataframe tbody tr th:only-of-type {\n",
       "        vertical-align: middle;\n",
       "    }\n",
       "\n",
       "    .dataframe tbody tr th {\n",
       "        vertical-align: top;\n",
       "    }\n",
       "\n",
       "    .dataframe thead th {\n",
       "        text-align: right;\n",
       "    }\n",
       "</style>\n",
       "<table border=\"1\" class=\"dataframe\">\n",
       "  <thead>\n",
       "    <tr style=\"text-align: right;\">\n",
       "      <th></th>\n",
       "      <th>Cartoon Name</th>\n",
       "      <th>Starting Year</th>\n",
       "      <th>Channel Name</th>\n",
       "      <th>Age</th>\n",
       "    </tr>\n",
       "  </thead>\n",
       "  <tbody>\n",
       "    <tr>\n",
       "      <th>3</th>\n",
       "      <td>Shinchan</td>\n",
       "      <td>1992</td>\n",
       "      <td>Hungama TV</td>\n",
       "      <td>75</td>\n",
       "    </tr>\n",
       "    <tr>\n",
       "      <th>4</th>\n",
       "      <td>Pokémon</td>\n",
       "      <td>1997</td>\n",
       "      <td>Cartoon Network</td>\n",
       "      <td>86</td>\n",
       "    </tr>\n",
       "    <tr>\n",
       "      <th>5</th>\n",
       "      <td>Chhota Bheem</td>\n",
       "      <td>2008</td>\n",
       "      <td>Pogo TV</td>\n",
       "      <td>89</td>\n",
       "    </tr>\n",
       "  </tbody>\n",
       "</table>\n",
       "</div>"
      ],
      "text/plain": [
       "   Cartoon Name  Starting Year     Channel Name  Age\n",
       "3      Shinchan           1992       Hungama TV   75\n",
       "4       Pokémon           1997  Cartoon Network   86\n",
       "5  Chhota Bheem           2008          Pogo TV   89"
      ]
     },
     "execution_count": 21,
     "metadata": {},
     "output_type": "execute_result"
    }
   ],
   "source": [
    "df[df['Age']>60]"
   ]
  },
  {
   "cell_type": "markdown",
   "id": "9da6591f-2311-420d-a0f7-f5273fa7c859",
   "metadata": {},
   "source": [
    "###### "
   ]
  },
  {
   "cell_type": "code",
   "execution_count": 29,
   "id": "7940adec-2224-4ca3-b360-e0c990c281b4",
   "metadata": {},
   "outputs": [
    {
     "data": {
      "text/html": [
       "<div>\n",
       "<style scoped>\n",
       "    .dataframe tbody tr th:only-of-type {\n",
       "        vertical-align: middle;\n",
       "    }\n",
       "\n",
       "    .dataframe tbody tr th {\n",
       "        vertical-align: top;\n",
       "    }\n",
       "\n",
       "    .dataframe thead th {\n",
       "        text-align: right;\n",
       "    }\n",
       "</style>\n",
       "<table border=\"1\" class=\"dataframe\">\n",
       "  <thead>\n",
       "    <tr style=\"text-align: right;\">\n",
       "      <th></th>\n",
       "      <th>Cartoon Name</th>\n",
       "      <th>Starting Year</th>\n",
       "      <th>Channel Name</th>\n",
       "      <th>Age</th>\n",
       "    </tr>\n",
       "  </thead>\n",
       "  <tbody>\n",
       "    <tr>\n",
       "      <th>4</th>\n",
       "      <td>Pokémon</td>\n",
       "      <td>1997</td>\n",
       "      <td>Cartoon Network</td>\n",
       "      <td>86</td>\n",
       "    </tr>\n",
       "    <tr>\n",
       "      <th>5</th>\n",
       "      <td>Chhota Bheem</td>\n",
       "      <td>2008</td>\n",
       "      <td>Pogo TV</td>\n",
       "      <td>89</td>\n",
       "    </tr>\n",
       "  </tbody>\n",
       "</table>\n",
       "</div>"
      ],
      "text/plain": [
       "   Cartoon Name  Starting Year     Channel Name  Age\n",
       "4       Pokémon           1997  Cartoon Network   86\n",
       "5  Chhota Bheem           2008          Pogo TV   89"
      ]
     },
     "execution_count": 29,
     "metadata": {},
     "output_type": "execute_result"
    }
   ],
   "source": [
    "df[(df['Starting Year']>1992) & (df['Age']>45)]"
   ]
  },
  {
   "cell_type": "code",
   "execution_count": 30,
   "id": "d3076d48-6a2b-4ff0-b0d9-0ccde7cfd527",
   "metadata": {},
   "outputs": [
    {
     "data": {
      "text/html": [
       "<div>\n",
       "<style scoped>\n",
       "    .dataframe tbody tr th:only-of-type {\n",
       "        vertical-align: middle;\n",
       "    }\n",
       "\n",
       "    .dataframe tbody tr th {\n",
       "        vertical-align: top;\n",
       "    }\n",
       "\n",
       "    .dataframe thead th {\n",
       "        text-align: right;\n",
       "    }\n",
       "</style>\n",
       "<table border=\"1\" class=\"dataframe\">\n",
       "  <thead>\n",
       "    <tr style=\"text-align: right;\">\n",
       "      <th></th>\n",
       "      <th>Cartoon Name</th>\n",
       "      <th>Starting Year</th>\n",
       "      <th>Channel Name</th>\n",
       "      <th>Age</th>\n",
       "    </tr>\n",
       "  </thead>\n",
       "  <tbody>\n",
       "    <tr>\n",
       "      <th>4</th>\n",
       "      <td>Pokémon</td>\n",
       "      <td>1997</td>\n",
       "      <td>Cartoon Network</td>\n",
       "      <td>86</td>\n",
       "    </tr>\n",
       "  </tbody>\n",
       "</table>\n",
       "</div>"
      ],
      "text/plain": [
       "  Cartoon Name  Starting Year     Channel Name  Age\n",
       "4      Pokémon           1997  Cartoon Network   86"
      ]
     },
     "execution_count": 30,
     "metadata": {},
     "output_type": "execute_result"
    }
   ],
   "source": [
    "df.query(\"`Cartoon Name`== 'Pokémon'\")"
   ]
  },
  {
   "cell_type": "code",
   "execution_count": null,
   "id": "916d864c-104b-4287-83f4-30cb83a9ed81",
   "metadata": {},
   "outputs": [],
   "source": []
  }
 ],
 "metadata": {
  "kernelspec": {
   "display_name": "Python [conda env:base] *",
   "language": "python",
   "name": "conda-base-py"
  },
  "language_info": {
   "codemirror_mode": {
    "name": "ipython",
    "version": 3
   },
   "file_extension": ".py",
   "mimetype": "text/x-python",
   "name": "python",
   "nbconvert_exporter": "python",
   "pygments_lexer": "ipython3",
   "version": "3.13.5"
  }
 },
 "nbformat": 4,
 "nbformat_minor": 5
}
