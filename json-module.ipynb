{
 "cells": [
  {
   "cell_type": "code",
   "execution_count": 2,
   "id": "394351f7-4868-4fa6-a35d-c2cff85ac665",
   "metadata": {},
   "outputs": [
    {
     "name": "stdout",
     "output_type": "stream",
     "text": [
      "{\"name\": \"yana\", \"age\": \"87\"}\n"
     ]
    }
   ],
   "source": [
    "import json\n",
    "obj  ={\"name\":\"yana\",\"age\":\"87\"}\n",
    "s = json.dumps(obj)\n",
    "print(s)"
   ]
  },
  {
   "cell_type": "code",
   "execution_count": 3,
   "id": "570ed2b9-4a6f-44fe-9850-c00248cd4cd2",
   "metadata": {},
   "outputs": [
    {
     "name": "stdout",
     "output_type": "stream",
     "text": [
      "{'love': 'yes', 'marriage': 'yes'}\n"
     ]
    }
   ],
   "source": [
    "d = json.loads('{\"love\":\"yes\",\"marriage\":\"yes\"}')\n",
    "print(d)"
   ]
  },
  {
   "cell_type": "code",
   "execution_count": null,
   "id": "48dde9ae-c371-4073-bb40-7be104744eb9",
   "metadata": {},
   "outputs": [],
   "source": []
  }
 ],
 "metadata": {
  "kernelspec": {
   "display_name": "Python [conda env:base] *",
   "language": "python",
   "name": "conda-base-py"
  },
  "language_info": {
   "codemirror_mode": {
    "name": "ipython",
    "version": 3
   },
   "file_extension": ".py",
   "mimetype": "text/x-python",
   "name": "python",
   "nbconvert_exporter": "python",
   "pygments_lexer": "ipython3",
   "version": "3.13.5"
  }
 },
 "nbformat": 4,
 "nbformat_minor": 5
}
