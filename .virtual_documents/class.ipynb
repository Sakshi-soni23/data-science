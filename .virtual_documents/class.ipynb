class bus:
    def __init__(self,name,bus_no,location,cost):
        self.name = name
        self.bus_no= bus_no
        self.location = location
        self.cost = cost
e = bus()
print(e.bus(sakshi,23,ladak,23000))



