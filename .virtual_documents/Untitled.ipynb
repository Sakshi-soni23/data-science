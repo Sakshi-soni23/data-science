a = set()
type(a)


set = {1,2,3,4,2}
print(set)


s = {3,1,34,123,55}
for i in s:
    if i == 13:
        print("yes",i)
print("NO")
        
    



b = {1,2,4,5,67,89,96,33}
b.add(90)



b.update([10,20,90])
print(b)



b.remove(2)
print(b)



b.discard(0)
print(b)


b.pop()



b.clear()


b.copy()


sub = {1,4}
sub.issubset(b)


set1 = {1,3,4,5}
sub = {1,4}
sub.issubset(set1)
set1.supperset



