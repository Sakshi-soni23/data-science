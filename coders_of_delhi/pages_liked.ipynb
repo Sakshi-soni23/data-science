{
 "cells": [
  {
   "cell_type": "code",
   "execution_count": 1,
   "id": "6baeeb1d-a3ef-4a96-8cf3-847ae02d4313",
   "metadata": {},
   "outputs": [
    {
     "name": "stdout",
     "output_type": "stream",
     "text": [
      "[108, 103, 104, 105, 106, 107]\n"
     ]
    }
   ],
   "source": [
    "import json\n",
    "def load_Data(filename):\n",
    "    with open(filename,\"r\") as f:\n",
    "        return json.load(f)\n",
    "#function to load file\n",
    "def find_pages(user_id, data):\n",
    "    user_pages = {}\n",
    "    for user in data['users']:\n",
    "        user_pages[user['id']] = set(user['liked_pages'])\n",
    "    if user_id not in user_pages:\n",
    "        return []\n",
    "    user_likeds_pages=user_pages[user_id]\n",
    "    page_suggestions = {}\n",
    "    for other_user,pages in user_pages.items():\n",
    "        if other_user != user_id:\n",
    "            shared_pages =user_likeds_pages.intersection(pages)\n",
    "\n",
    "        for page in pages:\n",
    "            if page not in user_likeds_pages:\n",
    "                page_suggestions[page] = page_suggestions.get('get',0)+len(shared_pages)\n",
    "    sorted_pages = sorted(page_suggestions.items(),key=lambda x:x[1],reverse=True)\n",
    "    return [page_id for page_id,_ in sorted_pages]\n",
    "data = load_Data(\"data.json\")\n",
    "user_id = 1\n",
    "pages_recommendation = find_pages(user_id , data)\n",
    "print(pages_recommendation)"
   ]
  },
  {
   "cell_type": "code",
   "execution_count": null,
   "id": "a67c1360-3a31-4f67-923e-073589cc6865",
   "metadata": {},
   "outputs": [],
   "source": []
  }
 ],
 "metadata": {
  "kernelspec": {
   "display_name": "Python [conda env:base] *",
   "language": "python",
   "name": "conda-base-py"
  },
  "language_info": {
   "codemirror_mode": {
    "name": "ipython",
    "version": 3
   },
   "file_extension": ".py",
   "mimetype": "text/x-python",
   "name": "python",
   "nbconvert_exporter": "python",
   "pygments_lexer": "ipython3",
   "version": "3.13.5"
  }
 },
 "nbformat": 4,
 "nbformat_minor": 5
}
