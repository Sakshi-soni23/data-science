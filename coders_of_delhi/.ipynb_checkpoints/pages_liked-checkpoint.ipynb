{
 "cells": [
  {
   "cell_type": "code",
   "execution_count": 3,
   "id": "6baeeb1d-a3ef-4a96-8cf3-847ae02d4313",
   "metadata": {},
   "outputs": [
    {
     "ename": "AttributeError",
     "evalue": "'dict' object has no attribute 'item'",
     "output_type": "error",
     "traceback": [
      "\u001b[1;31m---------------------------------------------------------------------------\u001b[0m",
      "\u001b[1;31mAttributeError\u001b[0m                            Traceback (most recent call last)",
      "Cell \u001b[1;32mIn[3], line 25\u001b[0m\n\u001b[0;32m     23\u001b[0m data \u001b[38;5;241m=\u001b[39m load_Data(\u001b[38;5;124m\"\u001b[39m\u001b[38;5;124mdata.json\u001b[39m\u001b[38;5;124m\"\u001b[39m)\n\u001b[0;32m     24\u001b[0m user_id \u001b[38;5;241m=\u001b[39m \u001b[38;5;241m1\u001b[39m\n\u001b[1;32m---> 25\u001b[0m pages_recommendation \u001b[38;5;241m=\u001b[39m find_pages(user_id , data)\n\u001b[0;32m     26\u001b[0m \u001b[38;5;28mprint\u001b[39m(pages_recommendation)\n",
      "Cell \u001b[1;32mIn[3], line 21\u001b[0m, in \u001b[0;36mfind_pages\u001b[1;34m(user_id, data)\u001b[0m\n\u001b[0;32m     19\u001b[0m         \u001b[38;5;28;01mif\u001b[39;00m page \u001b[38;5;129;01mnot\u001b[39;00m \u001b[38;5;129;01min\u001b[39;00m user_likeds_pages:\n\u001b[0;32m     20\u001b[0m             page_suggestions[page] \u001b[38;5;241m=\u001b[39m page_suggestions\u001b[38;5;241m.\u001b[39mget(\u001b[38;5;124m'\u001b[39m\u001b[38;5;124mget\u001b[39m\u001b[38;5;124m'\u001b[39m,\u001b[38;5;241m0\u001b[39m)\u001b[38;5;241m+\u001b[39m\u001b[38;5;28mlen\u001b[39m(shared_pages)\n\u001b[1;32m---> 21\u001b[0m sorted_pages \u001b[38;5;241m=\u001b[39m \u001b[38;5;28msorted\u001b[39m(page_suggestions\u001b[38;5;241m.\u001b[39mitem(),key\u001b[38;5;241m=\u001b[39m\u001b[38;5;28;01mlambda\u001b[39;00m x:x[\u001b[38;5;241m1\u001b[39m],reverse\u001b[38;5;241m=\u001b[39m\u001b[38;5;28;01mTrue\u001b[39;00m)\n\u001b[0;32m     22\u001b[0m \u001b[38;5;28;01mreturn\u001b[39;00m [page_id \u001b[38;5;28;01mfor\u001b[39;00m page_id,_ \u001b[38;5;129;01min\u001b[39;00m sorted_pages]\n",
      "\u001b[1;31mAttributeError\u001b[0m: 'dict' object has no attribute 'item'"
     ]
    }
   ],
   "source": [
    "import json\n",
    "def load_Data(filename):\n",
    "    with open(filename,\"r\") as f:\n",
    "        return json.load(f)\n",
    "#function to load file\n",
    "def find_pages(user_id, data):\n",
    "    user_pages = {}\n",
    "    for user in data['users']:\n",
    "        user_pages[user['id']] = set(user['liked_pages'])\n",
    "    if user_id not in user_pages:\n",
    "        return []\n",
    "    user_likeds_pages=user_pages[user_id]\n",
    "    page_suggestions = {}\n",
    "    for other_user,pages in user_pages.items():\n",
    "        if other_user != user_id:\n",
    "            shared_pages =user_likeds_pages.intersection(pages)\n",
    "\n",
    "        for page in pages:\n",
    "            if page not in user_likeds_pages:\n",
    "                page_suggestions[page] = page_suggestions.get('get',0)+len(shared_pages)\n",
    "    sorted_pages = sorted(page_suggestions.items(),key=lambda x:x[1],reverse=True)\n",
    "    return [page_id for page_id,_ in sorted_pages]\n",
    "data = load_Data(\"data.json\")\n",
    "user_id = 1\n",
    "pages_recommendation = find_pages(user_id , data)\n",
    "print(pages_recommendation)"
   ]
  },
  {
   "cell_type": "code",
   "execution_count": null,
   "id": "a67c1360-3a31-4f67-923e-073589cc6865",
   "metadata": {},
   "outputs": [],
   "source": []
  }
 ],
 "metadata": {
  "kernelspec": {
   "display_name": "Python [conda env:base] *",
   "language": "python",
   "name": "conda-base-py"
  },
  "language_info": {
   "codemirror_mode": {
    "name": "ipython",
    "version": 3
   },
   "file_extension": ".py",
   "mimetype": "text/x-python",
   "name": "python",
   "nbconvert_exporter": "python",
   "pygments_lexer": "ipython3",
   "version": "3.13.5"
  }
 },
 "nbformat": 4,
 "nbformat_minor": 5
}
