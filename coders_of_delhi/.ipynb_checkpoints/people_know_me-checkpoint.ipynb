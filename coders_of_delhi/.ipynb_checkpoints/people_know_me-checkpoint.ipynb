{
 "cells": [
  {
   "cell_type": "code",
   "execution_count": 4,
   "id": "1ee0b537-568d-4558-b957-3bf5a1d6d5dc",
   "metadata": {},
   "outputs": [
    {
     "name": "stdout",
     "output_type": "stream",
     "text": [
      "[4, 5]\n"
     ]
    }
   ],
   "source": [
    "import json\n",
    "def load_data(filename):\n",
    "    with open(filename,\"r\") as f:\n",
    "        return json.load(f)\n",
    "def find_people(user_id,data):\n",
    "    user_friends = {}\n",
    "    for user in data['users']:\n",
    "        user_friends[user['id']] = set(user['friends'])\n",
    "    if user_id not in user_friends:\n",
    "        return []\n",
    "    direct_friend = user_friends[user_id]\n",
    "    suggestions = {}\n",
    "    for friend in direct_friend:\n",
    "        for mutual in user_friends[friend]:\n",
    "            if mutual != user_id and mutual not in direct_friend:\n",
    "                suggestions[mutual] = suggestions.get(mutual,0)+1\n",
    "    sorted_suggestions = sorted(suggestions.items(),key=lambda x:x[1],reverse = True)\n",
    "    return [user_id for user_id , _ in sorted_suggestions]\n",
    "data = load_data(\"data.json\")\n",
    "user_id = 1\n",
    "recc = find_people(user_id,data)\n",
    "print(recc)\n",
    "            "
   ]
  },
  {
   "cell_type": "code",
   "execution_count": null,
   "id": "0e4311e5-f506-478e-9130-fc279ffaa90d",
   "metadata": {},
   "outputs": [],
   "source": []
  }
 ],
 "metadata": {
  "kernelspec": {
   "display_name": "Python [conda env:base] *",
   "language": "python",
   "name": "conda-base-py"
  },
  "language_info": {
   "codemirror_mode": {
    "name": "ipython",
    "version": 3
   },
   "file_extension": ".py",
   "mimetype": "text/x-python",
   "name": "python",
   "nbconvert_exporter": "python",
   "pygments_lexer": "ipython3",
   "version": "3.13.5"
  }
 },
 "nbformat": 4,
 "nbformat_minor": 5
}
