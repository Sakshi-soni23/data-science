{
 "cells": [
  {
   "cell_type": "code",
   "execution_count": 10,
   "id": "c298c8ab-c550-40c7-a3b4-d28d284fdddb",
   "metadata": {},
   "outputs": [
    {
     "name": "stdout",
     "output_type": "stream",
     "text": [
      "data has been successfully  leaned\n"
     ]
    }
   ],
   "source": [
    "import json\n",
    "def clean_data(data):\n",
    "    #remove users missing name\n",
    "    data[\"users\"] = [user for user in data[\"users\"] if user[\"name\"].strip()]\n",
    "    #remove duplicate friends\n",
    "    for user in data[\"users\"]:\n",
    "        user[\"friends\"] = list(set(user['friends']))\n",
    "        #remove inactive users\n",
    "    data[\"users\"] = [user for user in data[\"users\"] if user['friends'] or user['liked_pages']]\n",
    "    #remove duplicate pages\n",
    "    unique_pages = {}\n",
    "    for page in data[\"pages\"]:\n",
    "        unique_pages[page['id']] = page\n",
    "    data['pages'] = list(unique_pages.values())\n",
    "    #remove emoty page name\n",
    "    data[\"pages\"] = [user for user in data[\"pages\"] if user[\"name\"].strip()]\n",
    "        \n",
    "#load data\n",
    "data = json.load(open(\"data2.json\"))\n",
    "daa = clean_data(data)\n",
    "json.dump(data,open(\"cleaned_data2.json\",\"w\"),indent=4)\n",
    "print(\"data has been successfully  leaned\")"
   ]
  },
  {
   "cell_type": "code",
   "execution_count": null,
   "id": "232587ea-ceb2-403f-b765-eb438de8a48b",
   "metadata": {},
   "outputs": [],
   "source": []
  }
 ],
 "metadata": {
  "kernelspec": {
   "display_name": "Python [conda env:base] *",
   "language": "python",
   "name": "conda-base-py"
  },
  "language_info": {
   "codemirror_mode": {
    "name": "ipython",
    "version": 3
   },
   "file_extension": ".py",
   "mimetype": "text/x-python",
   "name": "python",
   "nbconvert_exporter": "python",
   "pygments_lexer": "ipython3",
   "version": "3.13.5"
  }
 },
 "nbformat": 4,
 "nbformat_minor": 5
}
