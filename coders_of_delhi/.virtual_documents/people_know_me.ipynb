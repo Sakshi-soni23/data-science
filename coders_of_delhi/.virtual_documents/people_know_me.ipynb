import json
def load_data(filename):
    with open(filename,"r") as f:
        return json.load(f)
def find_people(user_id,data):
    user_friends = {}
    for user in data['users']:
        user_friends[user['id']] = set(user['friends'])
    if user_id not in user_friends:
        return []
    direct_friend = user_friends[user_id]
    suggestions = {}
    for friend in direct_friend:
        for mutual in user_friends[friend]:
            if mutual != user_id and mutual not in direct_friend:
                suggestions[mutual] = suggestions.get(mutual,0)+1
    sorted_suggestions = sorted(suggestions.items(),key=lambda x:x[1],reverse = True)
    return [user_id for user_id , _ in sorted_suggestions]
data = load_data("data.json")
user_id = 1
recc = find_people(user_id,data)
print(recc)
            



