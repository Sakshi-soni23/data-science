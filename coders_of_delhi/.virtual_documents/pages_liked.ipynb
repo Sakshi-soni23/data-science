import json
def load_Data(filename):
    with open(filename,"r") as f:
        return json.load(f)
#function to load file
def find_pages(user_id, data):
    user_pages = {}
    for user in data['users']:
        user_pages[user['id']] = set(user['liked_pages'])
    if user_id not in user_pages:
        return []
    user_likeds_pages=user_pages[user_id]
    page_suggestions = {}
    for other_user,pages in user_pages.items():
        if other_user != user_id:
            shared_pages =user_likeds_pages.intersection(pages)

        for page in pages:
            if page not in user_likeds_pages:
                page_suggestions[page] = page_suggestions.get('get',0)+len(shared_pages)
    sorted_pages = sorted(page_suggestions.items(),key=lambda x:x[1],reverse=True)
    return [page_id for page_id,_ in sorted_pages]
data = load_Data("data.json")
user_id = 1
pages_recommendation = find_pages(user_id , data)
print(pages_recommendation)



