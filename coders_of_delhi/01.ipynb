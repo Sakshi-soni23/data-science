{
 "cells": [
  {
   "cell_type": "code",
   "execution_count": 23,
   "id": "9370471b-1414-4008-8b40-c015bfe57fd7",
   "metadata": {},
   "outputs": [
    {
     "name": "stdout",
     "output_type": "stream",
     "text": [
      "{'users': [{'id': 1, 'name': 'Amit', 'friends': [2, 3], 'liked_pages': [101, 102]}, {'id': 2, 'name': 'Taniya', 'friends': [1, 4], 'liked_pages': [102, 103]}, {'id': 3, 'name': 'Sakshi', 'friends': [1, 5], 'liked_pages': [103, 104]}, {'id': 4, 'name': 'Tanmaye', 'friends': [2, 6], 'liked_pages': [104, 105]}, {'id': 5, 'name': 'Rahul', 'friends': [3, 7], 'liked_pages': [105, 106]}, {'id': 6, 'name': 'Neha', 'friends': [4, 8], 'liked_pages': [106, 107]}, {'id': 7, 'name': 'Karan', 'friends': [5, 8], 'liked_pages': [107, 108]}, {'id': 8, 'name': 'Anita', 'friends': [6, 7], 'liked_pages': [108, 101]}], 'pages': [{'id': 101, 'name': 'Java Developer'}, {'id': 102, 'name': 'AI Developer'}, {'id': 103, 'name': 'Python Developer'}, {'id': 104, 'name': 'Web Developer'}, {'id': 105, 'name': 'Data Scientist'}, {'id': 106, 'name': 'Machine Learning Engineer'}, {'id': 107, 'name': 'Frontend Developer'}, {'id': 108, 'name': 'Backend Developer'}]}\n"
     ]
    }
   ],
   "source": [
    "import json\n",
    "def load_data(filename):\n",
    "    with open(filename,\"r\") as f:\n",
    "        data = json.load(f)\n",
    "    return data\n",
    "data = load_data(\"data.json\")\n",
    "print(data)"
   ]
  },
  {
   "cell_type": "code",
   "execution_count": 24,
   "id": "ec37d9d6-4b4a-40e7-bce5-022de09ff6b7",
   "metadata": {},
   "outputs": [
    {
     "name": "stdout",
     "output_type": "stream",
     "text": [
      "The users and thier friends\n",
      "\n",
      "Id: 1 - Amit is the friend of [2, 3] and pages are [101, 102]\n",
      "Id: 2 - Taniya is the friend of [1, 4] and pages are [102, 103]\n",
      "Id: 3 - Sakshi is the friend of [1, 5] and pages are [103, 104]\n",
      "Id: 4 - Tanmaye is the friend of [2, 6] and pages are [104, 105]\n",
      "Id: 5 - Rahul is the friend of [3, 7] and pages are [105, 106]\n",
      "Id: 6 - Neha is the friend of [4, 8] and pages are [106, 107]\n",
      "Id: 7 - Karan is the friend of [5, 8] and pages are [107, 108]\n",
      "Id: 8 - Anita is the friend of [6, 7] and pages are [108, 101]\n",
      "\n",
      "The pages are\n",
      "101 and they liked pages are Java Developer\n",
      "102 and they liked pages are AI Developer\n",
      "103 and they liked pages are Python Developer\n",
      "104 and they liked pages are Web Developer\n",
      "105 and they liked pages are Data Scientist\n",
      "106 and they liked pages are Machine Learning Engineer\n",
      "107 and they liked pages are Frontend Developer\n",
      "108 and they liked pages are Backend Developer\n"
     ]
    }
   ],
   "source": [
    "def display_user(data):\n",
    "    print(\"The users and thier friends\\n\")\n",
    "    for user in data['users']:\n",
    "        print(f\"Id: {user['id']} - {user['name']} is the friend of {user['friends']} and pages are {user['liked_pages']}\")\n",
    "    print(\"\\nThe pages are\")\n",
    "    for page in data['pages']:\n",
    "        print(f\"{page['id']} and they liked pages are {page['name']}\")\n",
    "display_user(data)\n",
    "        "
   ]
  },
  {
   "cell_type": "code",
   "execution_count": null,
   "id": "db70ac65-4d62-4aeb-bfb6-3320ac133c70",
   "metadata": {},
   "outputs": [],
   "source": []
  }
 ],
 "metadata": {
  "kernelspec": {
   "display_name": "Python [conda env:base] *",
   "language": "python",
   "name": "conda-base-py"
  },
  "language_info": {
   "codemirror_mode": {
    "name": "ipython",
    "version": 3
   },
   "file_extension": ".py",
   "mimetype": "text/x-python",
   "name": "python",
   "nbconvert_exporter": "python",
   "pygments_lexer": "ipython3",
   "version": "3.13.5"
  }
 },
 "nbformat": 4,
 "nbformat_minor": 5
}
