{
 "cells": [
  {
   "cell_type": "code",
   "execution_count": 5,
   "id": "94edaa1f-f60b-42ee-8cc0-654319f30565",
   "metadata": {},
   "outputs": [
    {
     "name": "stdout",
     "output_type": "stream",
     "text": [
      "The name of passenger is sakshi and the bus number is 23, the location is ladak ,23000\n"
     ]
    }
   ],
   "source": [
    "class bus:\n",
    "    def __init__(self,name,bus_no,location,cost):\n",
    "        self.name = name\n",
    "        self.bus_no= bus_no\n",
    "        self.location = location\n",
    "        self.cost = cost\n",
    "e = bus(\"sakshi\",23,\"ladak\",23000)\n",
    "print(f\"The name of passenger is {e.name} and the bus number is {e.bus_no}, the location is {e.location} ,{e.cost}\")"
   ]
  },
  {
   "cell_type": "code",
   "execution_count": null,
   "id": "3da85d04-9fe8-484b-86ae-e3a31482d975",
   "metadata": {},
   "outputs": [],
   "source": []
  }
 ],
 "metadata": {
  "kernelspec": {
   "display_name": "Python [conda env:base] *",
   "language": "python",
   "name": "conda-base-py"
  },
  "language_info": {
   "codemirror_mode": {
    "name": "ipython",
    "version": 3
   },
   "file_extension": ".py",
   "mimetype": "text/x-python",
   "name": "python",
   "nbconvert_exporter": "python",
   "pygments_lexer": "ipython3",
   "version": "3.13.5"
  }
 },
 "nbformat": 4,
 "nbformat_minor": 5
}
