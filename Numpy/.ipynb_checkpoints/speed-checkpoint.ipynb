{
 "cells": [
  {
   "cell_type": "code",
   "execution_count": 2,
   "id": "7f854793-6246-455d-bfe5-f6f5b1641b58",
   "metadata": {},
   "outputs": [
    {
     "name": "stdout",
     "output_type": "stream",
     "text": [
      "the square are 0.00024271011352539062\n"
     ]
    }
   ],
   "source": [
    "import numpy as np\n",
    "import time\n",
    "size  = [1,2,4,6,3]\n",
    "start = time.time()\n",
    "list_sq = [x**2 for x in size]\n",
    "end = time.time()\n",
    "print(\"the square are\",end-start)"
   ]
  },
  {
   "cell_type": "code",
   "execution_count": null,
   "id": "1cc32b8a-982e-4fd6-8dd4-d0db9a69c14e",
   "metadata": {},
   "outputs": [],
   "source": []
  }
 ],
 "metadata": {
  "kernelspec": {
   "display_name": "Python [conda env:base] *",
   "language": "python",
   "name": "conda-base-py"
  },
  "language_info": {
   "codemirror_mode": {
    "name": "ipython",
    "version": 3
   },
   "file_extension": ".py",
   "mimetype": "text/x-python",
   "name": "python",
   "nbconvert_exporter": "python",
   "pygments_lexer": "ipython3",
   "version": "3.13.5"
  }
 },
 "nbformat": 4,
 "nbformat_minor": 5
}
