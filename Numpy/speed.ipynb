{
 "cells": [
  {
   "cell_type": "code",
   "execution_count": 8,
   "id": "7f854793-6246-455d-bfe5-f6f5b1641b58",
   "metadata": {},
   "outputs": [
    {
     "name": "stdout",
     "output_type": "stream",
     "text": [
      "List square time: 2.8280248641967773\n",
      "NumPy square time: 0.07004666328430176\n"
     ]
    }
   ],
   "source": [
    "import numpy as np\n",
    "import time\n",
    "\n",
    "# create large data\n",
    "size = 10000000  # 1 million numbers\n",
    "data = list(range(size))\n",
    "np_data = np.array(data)\n",
    "\n",
    "# List squaring\n",
    "start = time.time()\n",
    "list_sq = [x**2 for x in data]\n",
    "end = time.time()\n",
    "print(\"List square time:\", end - start)\n",
    "\n",
    "# NumPy squaring\n",
    "start = time.time()\n",
    "numpy_sq = np_data ** 2\n",
    "end = time.time()\n",
    "print(\"NumPy square time:\", end - start)"
   ]
  },
  {
   "cell_type": "code",
   "execution_count": null,
   "id": "1cc32b8a-982e-4fd6-8dd4-d0db9a69c14e",
   "metadata": {},
   "outputs": [],
   "source": []
  },
  {
   "cell_type": "code",
   "execution_count": null,
   "id": "d615a1d1-894c-44a3-bd03-bde040e18ecc",
   "metadata": {},
   "outputs": [],
   "source": []
  }
 ],
 "metadata": {
  "kernelspec": {
   "display_name": "Python [conda env:base] *",
   "language": "python",
   "name": "conda-base-py"
  },
  "language_info": {
   "codemirror_mode": {
    "name": "ipython",
    "version": 3
   },
   "file_extension": ".py",
   "mimetype": "text/x-python",
   "name": "python",
   "nbconvert_exporter": "python",
   "pygments_lexer": "ipython3",
   "version": "3.13.5"
  }
 },
 "nbformat": 4,
 "nbformat_minor": 5
}
