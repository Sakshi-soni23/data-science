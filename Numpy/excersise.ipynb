{
 "cells": [
  {
   "cell_type": "code",
   "execution_count": 4,
   "id": "cb7d6099-a173-417b-9a62-0c1195cf211e",
   "metadata": {},
   "outputs": [
    {
     "name": "stdout",
     "output_type": "stream",
     "text": [
      "The shape of array is (90,)\n"
     ]
    }
   ],
   "source": [
    "import numpy as np\n",
    "arr = np.arange(10,100)\n",
    "print(\"The shape of array is\",arr.shape)"
   ]
  },
  {
   "cell_type": "code",
   "execution_count": 9,
   "id": "d54a79b0-dade-4d1b-badd-bec29330d54e",
   "metadata": {},
   "outputs": [
    {
     "name": "stdout",
     "output_type": "stream",
     "text": [
      "the list multiple time is:  0.018590211868286133\n"
     ]
    }
   ],
   "source": [
    "import numpy as np\n",
    "import time\n",
    "size = 100000\n",
    "list1 = list(range(size))\n",
    "list2 = list(range(size))\n",
    "start = time.time()\n",
    "mul = [x*y for x,y in zip(list1,list2)]\n",
    "end = time.time()\n",
    "print(\"the list multiple time is: \" , end-start)\n"
   ]
  },
  {
   "cell_type": "code",
   "execution_count": 10,
   "id": "a789f87b-4160-4e72-8b56-bddedf4c916e",
   "metadata": {},
   "outputs": [
    {
     "name": "stdout",
     "output_type": "stream",
     "text": [
      "the mul of numpy is: 0.0048236846923828125\n"
     ]
    }
   ],
   "source": [
    "import numpy as np\n",
    "import time\n",
    "size = 100000\n",
    "arr1 = np.arange(size)\n",
    "arr2 = np.arange(size)\n",
    "start = time.time()\n",
    "mul = arr1*arr2\n",
    "end=time.time()\n",
    "print(\"the mul of numpy is:\",end-start)"
   ]
  },
  {
   "cell_type": "code",
   "execution_count": 14,
   "id": "829b779b-bac7-4ba2-a6f6-03b3973afa6c",
   "metadata": {},
   "outputs": [
    {
     "name": "stdout",
     "output_type": "stream",
     "text": [
      "Memory size in bytes: 8000000\n",
      "Memory size in bytes: 8000000\n"
     ]
    }
   ],
   "source": [
    "import numpy as np\n",
    "s = np.arange(1000000)\n",
    "print(\"Memory size in bytes:\", s.nbytes)\n",
    "print(\"Memory size in bytes:\", s.size * s.itemsize)"
   ]
  },
  {
   "cell_type": "code",
   "execution_count": null,
   "id": "b661641d-232a-465f-b088-2e8778bfad41",
   "metadata": {},
   "outputs": [],
   "source": []
  }
 ],
 "metadata": {
  "kernelspec": {
   "display_name": "Python [conda env:base] *",
   "language": "python",
   "name": "conda-base-py"
  },
  "language_info": {
   "codemirror_mode": {
    "name": "ipython",
    "version": 3
   },
   "file_extension": ".py",
   "mimetype": "text/x-python",
   "name": "python",
   "nbconvert_exporter": "python",
   "pygments_lexer": "ipython3",
   "version": "3.13.5"
  }
 },
 "nbformat": 4,
 "nbformat_minor": 5
}
