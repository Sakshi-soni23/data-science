import numpy as np


arr = np.array([1,2,3,4,5])
print(arr)



np.zeros((3,3))


np.ones((5,5))


np.full((2,2),9)


np.eye(7)


np.arange(1,101,9)


arr = np.array([[1,2,3],[4,5,6],[7,8,9],[10,11,12]])
print(arr.shape)


print("the total element" , arr.size)
print("the dimension is",arr.ndim)
print("the datatype is",arr.dtype)


arr = np.array([[1,2,3],[4,5,6],[7,8,9],[10,11,12]],dtype='float32')
print(arr)



