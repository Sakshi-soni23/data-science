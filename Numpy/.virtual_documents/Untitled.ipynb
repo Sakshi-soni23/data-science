import numpy as np
arr = np.array([[1,2,3,5],[4,5,6,7],[7,8,9,10],[38,2,421,32]])
print(arr)


np.sum(arr,axis=0)


np.sum(arr,axis=1)


arr[1:3,1:3]


import numpy as np
arr3D = np.array([[[1, 2, 3], [4, 5, 6]],
                  [[7, 8, 9], [10, 11, 12]]])
print(arr3D)
 


print(arr3D.shape)


print(arr3D[0, 1, 2]) 



